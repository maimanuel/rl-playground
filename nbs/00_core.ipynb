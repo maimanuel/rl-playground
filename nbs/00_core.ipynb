{
 "cells": [
  {
   "cell_type": "code",
   "execution_count": null,
   "metadata": {},
   "outputs": [],
   "source": [
    "# default_exp core"
   ]
  },
  {
   "cell_type": "markdown",
   "metadata": {},
   "source": [
    "# Core\n",
    "\n",
    "> API details."
   ]
  },
  {
   "cell_type": "code",
   "execution_count": null,
   "metadata": {},
   "outputs": [],
   "source": [
    "#hide\n",
    "from nbdev.showdoc import *\n",
    "import numpy as np\n",
    "import matplotlib.pyplot as plt\n",
    "%matplotlib inline"
   ]
  },
  {
   "cell_type": "code",
   "execution_count": null,
   "metadata": {},
   "outputs": [],
   "source": [
    "#export\n",
    "def hello():\n",
    "    print(hello)"
   ]
  },
  {
   "cell_type": "code",
   "execution_count": null,
   "metadata": {},
   "outputs": [],
   "source": [
    "#export\n",
    "import numpy as np\n",
    "class uniform_gravity_2d():\n",
    "    def __init__(self,g=9.8):\n",
    "        self.g=g\n",
    "        self.a=np.array([0,-self.g]) \n",
    "        self.objects = []\n",
    "        \n",
    "    def time_step(self,delta_t=0.01):\n",
    "        for o in self.objects:\n",
    "            self.evolve(o,delta_t=delta_t)\n",
    "            if o.x[1]<0:\n",
    "                o.x[1]*=-1\n",
    "                o.v[1]*=-0.7\n",
    "                \n",
    "    def evolve(self,o,delta_t):\n",
    "        #applies evolution to position (2d array)\n",
    "        o.v += self.a*delta_t\n",
    "        o.x += o.v*delta_t +1./2*self.a*delta_t**2\n",
    "\n",
    "class Ball():\n",
    "    def __init__(self,x=np.array([0.,0.]),v=np.array([0.,0.])):\n",
    "        self.x = x.astype(float)\n",
    "        self.v = v.astype(float)"
   ]
  },
  {
   "cell_type": "markdown",
   "metadata": {},
   "source": [
    "# Equations of motion in uniform gravity\n",
    "$$\\Delta v = g*\\Delta t$$\n",
    "$$\\Delta x = v*\\Delta t+ 1/2*g*(\\Delta t)^2$$"
   ]
  },
  {
   "cell_type": "code",
   "execution_count": null,
   "metadata": {},
   "outputs": [
    {
     "data": {
      "image/png": "[encoded data removed]",
      "text/plain": [
       "<Figure size 360x576 with 1 Axes>"
      ]
     },
     "metadata": {
      "needs_background": "light"
     },
     "output_type": "display_data"
    }
   ],
   "source": [
    "world = uniform_gravity_2d()\n",
    "world.objects.append(Ball(x=np.array([-3,8]),v=np.array([1,0])))\n",
    "world.objects.append(Ball(x=np.array([-4.5,13]),v=np.array([2,4])))\n",
    "colors = ['b','r']\n",
    "f,ax = plt.subplots(1,1,figsize=(5,8))\n",
    "ax.set_ylim(-1,15)\n",
    "ax.set_xlim(-5,5)\n",
    "\n",
    "ax.fill_between(np.linspace(-5,5),[-1]*50,[0]*50,color='k')\n",
    "for i in range(10000):\n",
    "    for j,o in enumerate(world.objects):\n",
    "        if i% 50==0:\n",
    "            ax.scatter(o.x[0],o.x[1],color=colors[j],alpha=0.2)\n",
    "        world.time_step(delta_t=0.001)"
   ]
  },
  {
   "cell_type": "code",
   "execution_count": null,
   "metadata": {},
   "outputs": [],
   "source": []
  }
 ],
 "metadata": {
  "kernelspec": {
   "display_name": "Python 3",
   "language": "python",
   "name": "python3"
  }
 },
 "nbformat": 4,
 "nbformat_minor": 2
}
